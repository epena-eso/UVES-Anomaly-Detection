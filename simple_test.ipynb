{
  "cells": [
    {
      "metadata": {
        "trusted": true,
        "ExecuteTime": {
          "start_time": "2019-05-23T23:09:39.759308Z",
          "end_time": "2019-05-23T23:09:40.590299Z"
        }
      },
      "cell_type": "code",
      "source": "%run github_interface.ipynb",
      "execution_count": 8,
      "outputs": [
        {
          "output_type": "display_data",
          "data": {
            "application/vnd.jupyter.widget-view+json": {
              "model_id": "c2dc8d5f634b4075a64892f6eb12b4b9",
              "version_minor": 0,
              "version_major": 2
            },
            "text/plain": "HBox(children=(Text(value='', description='user:', placeholder='your github user'), Password(description='Pass…"
          },
          "metadata": {}
        },
        {
          "output_type": "display_data",
          "data": {
            "application/vnd.jupyter.widget-view+json": {
              "model_id": "9c82f5e8fba24882bd7bddd707082da8",
              "version_minor": 0,
              "version_major": 2
            },
            "text/plain": "HBox(children=(Button(button_style='success', description='git log', style=ButtonStyle()), Button(button_style…"
          },
          "metadata": {}
        },
        {
          "output_type": "display_data",
          "data": {
            "application/vnd.jupyter.widget-view+json": {
              "model_id": "2f2c5c7389e64ef69d0655bbc582dc5a",
              "version_minor": 0,
              "version_major": 2
            },
            "text/plain": "HBox(children=(Button(button_style='success', description='git add all', style=ButtonStyle()), Textarea(value=…"
          },
          "metadata": {}
        },
        {
          "output_type": "stream",
          "text": "\n\n Commiting changes ....\ngithub_interface.ipynb and simple_test.ipynb added\n[master d058160] github_interface.ipynb and simple_test.ipynb added\n 2 files changed, 313 insertions(+), 9 deletions(-)\n create mode 100644 github_interface.ipynb\n\n\n\n Pushing files ....\n\n\n\n Pulling changes ....\nAlready up-to-date.\n\n",
          "name": "stdout"
        }
      ]
    },
    {
      "metadata": {
        "trusted": true
      },
      "cell_type": "code",
      "source": "",
      "execution_count": null,
      "outputs": []
    }
  ],
  "metadata": {
    "kernelspec": {
      "name": "python3",
      "display_name": "Python 3",
      "language": "python"
    },
    "language_info": {
      "mimetype": "text/x-python",
      "nbconvert_exporter": "python",
      "name": "python",
      "pygments_lexer": "ipython3",
      "version": "3.5.4",
      "file_extension": ".py",
      "codemirror_mode": {
        "version": 3,
        "name": "ipython"
      }
    },
    "hide_input": false,
    "toc": {
      "nav_menu": {},
      "number_sections": true,
      "sideBar": true,
      "skip_h1_title": false,
      "base_numbering": 1,
      "title_cell": "Table of Contents",
      "title_sidebar": "Contents",
      "toc_cell": false,
      "toc_position": {},
      "toc_section_display": true,
      "toc_window_display": false
    },
    "varInspector": {
      "window_display": false,
      "cols": {
        "lenName": 16,
        "lenType": 16,
        "lenVar": 40
      },
      "kernels_config": {
        "python": {
          "library": "var_list.py",
          "delete_cmd_prefix": "del ",
          "delete_cmd_postfix": "",
          "varRefreshCmd": "print(var_dic_list())"
        },
        "r": {
          "library": "var_list.r",
          "delete_cmd_prefix": "rm(",
          "delete_cmd_postfix": ") ",
          "varRefreshCmd": "cat(var_dic_list()) "
        }
      },
      "types_to_exclude": [
        "module",
        "function",
        "builtin_function_or_method",
        "instance",
        "_Feature"
      ]
    }
  },
  "nbformat": 4,
  "nbformat_minor": 2
}