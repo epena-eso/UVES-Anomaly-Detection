{
  "cells": [
    {
      "metadata": {
        "trusted": true,
        "ExecuteTime": {
          "start_time": "2019-05-23T23:03:12.471945Z",
          "end_time": "2019-05-23T23:03:13.428492Z"
        }
      },
      "cell_type": "code",
      "source": "%run github_interface.ipynb",
      "execution_count": 6,
      "outputs": [
        {
          "output_type": "display_data",
          "data": {
            "application/vnd.jupyter.widget-view+json": {
              "model_id": "fd15ee9bdab048f395fd19468343edeb",
              "version_minor": 0,
              "version_major": 2
            },
            "text/plain": "HBox(children=(Text(value='', description='user:', placeholder='your github user'), Password(description='Pass…"
          },
          "metadata": {}
        },
        {
          "output_type": "display_data",
          "data": {
            "application/vnd.jupyter.widget-view+json": {
              "model_id": "efbef46c9afa4f9dafc326a66b241c63",
              "version_minor": 0,
              "version_major": 2
            },
            "text/plain": "HBox(children=(Button(button_style='success', description='git log', style=ButtonStyle()), Button(button_style…"
          },
          "metadata": {}
        },
        {
          "output_type": "display_data",
          "data": {
            "application/vnd.jupyter.widget-view+json": {
              "model_id": "2e8727724af6489db4273a8b6e2fa83f",
              "version_minor": 0,
              "version_major": 2
            },
            "text/plain": "HBox(children=(Button(button_style='success', description='git add all', style=ButtonStyle()), Textarea(value=…"
          },
          "metadata": {}
        }
      ]
    },
    {
      "metadata": {
        "trusted": true
      },
      "cell_type": "code",
      "source": "",
      "execution_count": null,
      "outputs": []
    }
  ],
  "metadata": {
    "kernelspec": {
      "name": "python3",
      "display_name": "Python 3",
      "language": "python"
    },
    "language_info": {
      "mimetype": "text/x-python",
      "nbconvert_exporter": "python",
      "name": "python",
      "pygments_lexer": "ipython3",
      "version": "3.5.4",
      "file_extension": ".py",
      "codemirror_mode": {
        "version": 3,
        "name": "ipython"
      }
    },
    "hide_input": false,
    "toc": {
      "nav_menu": {},
      "number_sections": true,
      "sideBar": true,
      "skip_h1_title": false,
      "base_numbering": 1,
      "title_cell": "Table of Contents",
      "title_sidebar": "Contents",
      "toc_cell": false,
      "toc_position": {},
      "toc_section_display": true,
      "toc_window_display": false
    },
    "varInspector": {
      "window_display": false,
      "cols": {
        "lenName": 16,
        "lenType": 16,
        "lenVar": 40
      },
      "kernels_config": {
        "python": {
          "library": "var_list.py",
          "delete_cmd_prefix": "del ",
          "delete_cmd_postfix": "",
          "varRefreshCmd": "print(var_dic_list())"
        },
        "r": {
          "library": "var_list.r",
          "delete_cmd_prefix": "rm(",
          "delete_cmd_postfix": ") ",
          "varRefreshCmd": "cat(var_dic_list()) "
        }
      },
      "types_to_exclude": [
        "module",
        "function",
        "builtin_function_or_method",
        "instance",
        "_Feature"
      ]
    }
  },
  "nbformat": 4,
  "nbformat_minor": 2
}