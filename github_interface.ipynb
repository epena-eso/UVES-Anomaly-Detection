{
  "cells": [
    {
      "metadata": {},
      "cell_type": "markdown",
      "source": "# Use this notebook to pull and push changes to Github"
    },
    {
      "metadata": {
        "ExecuteTime": {
          "start_time": "2019-05-23T23:15:26.215044Z",
          "end_time": "2019-05-23T23:15:26.218087Z"
        },
        "trusted": true
      },
      "cell_type": "code",
      "source": "# Changelog:\n# Date         Who       What \n# 2019-05-23   epena     Created",
      "execution_count": 167,
      "outputs": []
    },
    {
      "metadata": {
        "ExecuteTime": {
          "start_time": "2019-05-23T23:15:27.012Z"
        },
        "trusted": true
      },
      "cell_type": "code",
      "source": "import ipywidgets as w\nimport IPython\nimport subprocess",
      "execution_count": null,
      "outputs": []
    },
    {
      "metadata": {
        "ExecuteTime": {
          "start_time": "2019-05-23T23:15:27.334Z"
        },
        "trusted": true
      },
      "cell_type": "code",
      "source": "%%bash\ngit config user.email \"epena@eso.org\"\ngit config user.name \"epena-eso\"",
      "execution_count": null,
      "outputs": []
    },
    {
      "metadata": {
        "ExecuteTime": {
          "start_time": "2019-05-23T23:15:27.699Z"
        },
        "trusted": true
      },
      "cell_type": "code",
      "source": "w_user = w.widgets.Text(\n    value='',\n    placeholder='your github user',\n    description='user:',\n    disabled=False\n)\nw_password = w.Password(description='Password:', placeholder='your github password')\nw_git_setremote_button = w.Button(description='git remore set-url origin', button_style='success')\n\n\ndef button_git_set_remote_action(*_):\n    print('\\n\\n','Setting remote url origin .....')\n    git_url = 'https://' + w_user.value + ':' + w_password.value + '@github.com/epena-eso/UVES-Anomaly-Detection.git'\n    #print(git_url)\n    ret=subprocess.run(['git','remote','set-url', 'origin', git_url], check=True, stdout=subprocess.PIPE, universal_newlines=True)\n    print(ret.stdout)\n    print('done.')\n\nw_git_setremote_button.on_click(button_git_set_remote_action)\n\n",
      "execution_count": null,
      "outputs": []
    },
    {
      "metadata": {
        "ExecuteTime": {
          "start_time": "2019-05-23T23:15:28.476Z"
        },
        "trusted": true
      },
      "cell_type": "code",
      "source": "w_message=w.widgets.Textarea(\n    value='',\n    placeholder='',\n    description='Message:',\n    disabled=False\n)\n\nw_git_log_button = w.Button(description='git log', button_style='success')\nw_git_pull_button = w.Button(description='git pull', button_style='success')\nw_git_status_button = w.Button(description='git status', button_style='success')\n\nw_git_add_all_button = w.Button(description='git add all', button_style='success')\nw_git_commit_button = w.Button(description='git commit', button_style='success')\nw_git_push_button = w.Button(description='git push', button_style='success')\n\ndef button_git_log_action(*_):\n    print('\\n\\n','Retrieving logs .....')\n    ret=subprocess.run(['git','log', '--pretty=format:\\\"%ar : %s\\\"'], check=True, stdout=subprocess.PIPE, universal_newlines=True)\n    print(ret.stdout)\n\ndef button_git_pull_action(*_):\n    print('\\n\\n','Pulling changes ....')\n    ret=subprocess.run(['git','pull'], check=True, stdout=subprocess.PIPE, universal_newlines=True)\n    print(ret.stdout)\n    \ndef button_git_status_action(*_):\n    print('\\n\\n','Getting status ....')\n    ret=subprocess.run(['git','status'], check=True, stdout=subprocess.PIPE, universal_newlines=True)    \n    print(ret.stdout)\n    \n    \ndef button_git_add_all_action(*_):\n    print('\\n\\n','Adding all files ....')\n    ret=subprocess.run(['git','add', '--all'], check=True, stdout=subprocess.PIPE, universal_newlines=True)\n    print(ret.stdout)    \n    \n    \ndef button_git_commit_action(*_):\n    print('\\n\\n','Commiting changes ....')\n    print(w_message.value)\n    ret=subprocess.run(['git','commit', '-m', w_message.value], check=True, stdout=subprocess.PIPE, universal_newlines=True)\n    print(ret.stdout)   \n    \ndef button_git_push_action(*_):\n    print('\\n\\n','Pushing files ....')\n    ret=subprocess.run(['git','push'], check=True, stdout=subprocess.PIPE, universal_newlines=True)\n    print(ret.stdout)\n    \n    \n    \nw_git_log_button.on_click(button_git_log_action)\nw_git_pull_button.on_click(button_git_pull_action)\nw_git_status_button.on_click(button_git_status_action)\n\nw_git_commit_button.on_click(button_git_commit_action)\nw_git_add_all_button.on_click(button_git_add_all_action)\nw_git_push_button.on_click(button_git_push_action)",
      "execution_count": null,
      "outputs": []
    },
    {
      "metadata": {
        "ExecuteTime": {
          "start_time": "2019-05-23T23:08:54.545894Z",
          "end_time": "2019-05-23T23:08:54.568912Z"
        },
        "trusted": true
      },
      "cell_type": "code",
      "source": "IPython.display.display(w.HBox([w_user,w_password,w_git_setremote_button]))\nIPython.display.display(w.HBox([w_git_log_button,w_git_pull_button,w_git_status_button]))\nIPython.display.display(w.HBox([w_git_add_all_button,w_message,w_git_commit_button,w_git_push_button]))",
      "execution_count": 166,
      "outputs": [
        {
          "output_type": "display_data",
          "data": {
            "application/vnd.jupyter.widget-view+json": {
              "model_id": "fd0158bf3bf84701ba900bc34cced975",
              "version_minor": 0,
              "version_major": 2
            },
            "text/plain": "HBox(children=(Button(button_style='success', description='git log', style=ButtonStyle()), Button(button_style…"
          },
          "metadata": {}
        },
        {
          "output_type": "display_data",
          "data": {
            "application/vnd.jupyter.widget-view+json": {
              "model_id": "5bc4b05fa26248bdb1609d9fb3049134",
              "version_minor": 0,
              "version_major": 2
            },
            "text/plain": "HBox(children=(Button(button_style='success', description='git add all', style=ButtonStyle()), Textarea(value=…"
          },
          "metadata": {}
        }
      ]
    }
  ],
  "metadata": {
    "kernelspec": {
      "name": "python36",
      "display_name": "Python 3.6",
      "language": "python"
    },
    "language_info": {
      "mimetype": "text/x-python",
      "nbconvert_exporter": "python",
      "name": "python",
      "pygments_lexer": "ipython3",
      "version": "3.6.6",
      "file_extension": ".py",
      "codemirror_mode": {
        "version": 3,
        "name": "ipython"
      }
    },
    "hide_input": false,
    "toc": {
      "nav_menu": {},
      "number_sections": false,
      "sideBar": true,
      "skip_h1_title": true,
      "base_numbering": 1,
      "title_cell": "Table of Contents",
      "title_sidebar": "Contents",
      "toc_cell": true,
      "toc_position": {},
      "toc_section_display": true,
      "toc_window_display": true
    },
    "varInspector": {
      "window_display": false,
      "cols": {
        "lenName": 16,
        "lenType": 16,
        "lenVar": 40
      },
      "kernels_config": {
        "python": {
          "library": "var_list.py",
          "delete_cmd_prefix": "del ",
          "delete_cmd_postfix": "",
          "varRefreshCmd": "print(var_dic_list())"
        },
        "r": {
          "library": "var_list.r",
          "delete_cmd_prefix": "rm(",
          "delete_cmd_postfix": ") ",
          "varRefreshCmd": "cat(var_dic_list()) "
        }
      },
      "types_to_exclude": [
        "module",
        "function",
        "builtin_function_or_method",
        "instance",
        "_Feature"
      ]
    }
  },
  "nbformat": 4,
  "nbformat_minor": 2
}