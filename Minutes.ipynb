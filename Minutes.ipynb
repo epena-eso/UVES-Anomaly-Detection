{
 "cells": [
  {
   "cell_type": "markdown",
   "metadata": {},
   "source": [
    "# UVES, Anomaly Detection"
   ]
  },
  {
   "cell_type": "markdown",
   "metadata": {
    "toc": true
   },
   "source": [
    "<h1>Table of Contents<span class=\"tocSkip\"></span></h1>\n",
    "<div class=\"toc\"><ul class=\"toc-item\"><li><span><a href=\"#Project-name-and-goals\" data-toc-modified-id=\"Project-name-and-goals-1\">Project name and goals</a></span></li><li><span><a href=\"#Deliverables\" data-toc-modified-id=\"Deliverables-2\">Deliverables</a></span></li><li><span><a href=\"#Timeline/duration\" data-toc-modified-id=\"Timeline/duration-3\">Timeline/duration</a></span></li><li><span><a href=\"#Team\" data-toc-modified-id=\"Team-4\">Team</a></span></li><li><span><a href=\"#Risks\" data-toc-modified-id=\"Risks-5\">Risks</a></span></li><li><span><a href=\"#Related-documents\" data-toc-modified-id=\"Related-documents-6\">Related documents</a></span></li><li><span><a href=\"#Project-status\" data-toc-modified-id=\"Project-status-7\">Project status</a></span><ul class=\"toc-item\"><li><span><a href=\"#2019-04-22\" data-toc-modified-id=\"2019-04-22-7.1\">2019-04-22</a></span></li><li><span><a href=\"#2019-05-08\" data-toc-modified-id=\"2019-05-08-7.2\">2019-05-08</a></span><ul class=\"toc-item\"><li><span><a href=\"#Summary:\" data-toc-modified-id=\"Summary:-7.2.1\">Summary:</a></span></li><li><span><a href=\"#AI:\" data-toc-modified-id=\"AI:-7.2.2\">AI:</a></span></li><li><span><a href=\"#Next-meeting:\" data-toc-modified-id=\"Next-meeting:-7.2.3\">Next meeting:</a></span></li></ul></li><li><span><a href=\"#2019-05-16\" data-toc-modified-id=\"2019-05-16-7.3\">2019-05-16</a></span><ul class=\"toc-item\"><li><span><a href=\"#Summary-of-the-discussed-items:\" data-toc-modified-id=\"Summary-of-the-discussed-items:-7.3.1\">Summary of the discussed items:</a></span></li><li><span><a href=\"#AI:\" data-toc-modified-id=\"AI:-7.3.2\">AI:</a></span></li><li><span><a href=\"#Next-meeting:-May-30th-10:00-ESO-premises.\" data-toc-modified-id=\"Next-meeting:-May-30th-10:00-ESO-premises.-7.3.3\">Next meeting: May 30th 10:00 ESO premises.</a></span></li></ul></li></ul></li></ul></div>"
   ]
  },
  {
   "cell_type": "markdown",
   "metadata": {},
   "source": [
    "## Project name and goals\n",
    "\n",
    "Length: 3 months\n",
    "\n",
    "Start: May 1.\n",
    "\n",
    "The progress of this project is followed in the OneDrive document found here. The one drive document is the master document for the project's progress, and this wiki page \"merely\" a summary."
   ]
  },
  {
   "cell_type": "markdown",
   "metadata": {},
   "source": [
    "## Deliverables\n",
    "\n",
    "* \"Black Box algorithm\" for anomaly detection in UVES biases, flats and arcs.\n",
    "* Obtain an assessment of the applicability to other instrument data\n",
    "* Implement ML in the quality control part of operations\n",
    "\n",
    "## Timeline/duration\n",
    "\n",
    "## Team\n",
    "\n",
    "* Nicolas Haddad (ESO) - UVES instrument responsible\n",
    "* Eduardo Pena (ESO) - Software specialist AI\n",
    "* Luca Sbordone (ESO) - UVES instrument scientist\n",
    "* Willem-Jan de Wit (ESO) - SciOps quality something\n",
    "* Roberto Munoz (MetricArts)\n",
    "* Joaquin Prieto (MetricArts)\n",
    "\n",
    "## Risks\n",
    "\n",
    "## Related documents\n",
    "\n",
    "## Project status\n",
    "\n",
    "### 2019-04-22\n",
    "\n",
    "* Internal meeting between NHA, LSB, and WDW on the data to be given to MetricArts.\n",
    "\n",
    "### 2019-05-08\n",
    "\n",
    "#### Summary:\n",
    "\n",
    "* Meeting at ESO with Metricarts and EPe, NHa, LSb, WdW. Goal: data delivery and explanation on the data.\n",
    "* One year of bias/arcs/flats delivered.\n",
    "* Deep learning and clustering approach will be the start by M.A.\n",
    "* Allow access to usher.com\n",
    "\n",
    "#### AI:\n",
    "\n",
    "* MetricArts/EPe: inform of technical information and costs of using the Clout\n",
    "* LSB: data - identify keywords and extract keyword values that uniquely describe each file\n",
    "* LSB: data - label faulty data\n",
    "* EPE: Create whatapp group for quick communiction.\n",
    "\n",
    "#### Next meeting:\n",
    "\n",
    "* 16-5, 09:30 ESO premises.\n",
    "\n",
    "### 2019-05-16\n",
    "\n",
    "* Progress meeting.\n",
    "    \n",
    "* Present: EPe, NHa, LSb, WdW, RMu (MetricArts), Joaquin ? (MetricArts)\n",
    "    \n",
    "* Start: ~10:30\n",
    "  \n",
    "#### Summary of the discussed items:\n",
    "        \n",
    "* Computing power \"Architecture\": A Virtual Machine (VM) on the Azure server for all data products (Azure Blob or Datalake) and an 'elastic' Jupyter (virtual) server on Azure for the \"real\" training and data visualization. [Elastic means that a VM can change size in cores and RAM]. The VM is replicated to the PARANAL gluster. This depends on the size of the data.\n",
    "* Notebooks developed on the Jupyter VM will be stored on Github (MicroSoft) under configuration control (and shared).\n",
    "* For the bias analysis the \"Hotdog approach\" is probably the most convenient, i.e. train the machine what is a good hotdog (bias frame) and all images that do not correspond to a hotdog ... are not hotdogs (biases).\n",
    "* Images: for testing the ML-blackbox: Add a synthetic signal. For unsupervised ML the number of bad UVES images is too low. \"Auto-encoder\" DL as an image reduction to its essence combined with a comparative network.\n",
    "* A note on possible futher QC implementation: instrument generated \"bad images\". A template that moves various functions in an \"unforeseen\" way in order to create a database of bad images which will be added to an image DB to teach the model.\n",
    "* Image normalization: how to normalize the images when you have hot pixels, CR hits? Does one pre-process and remove before learning or can the machine learn this? In ML practice, there is a set of operational parameters which define what are the acceptable pixel values. On the other hand, hot pixels themselves have been seen as used as a reference by the learning process (EPe).\n",
    "* NB: Each of the UVES images has an overscan region, which are always there and there is probably no need to take them out.\n",
    "* The total size of the data delivered by Garching is not clear. This is important for the type of cloud storage and the cost.\n",
    "\n",
    "####   AI:\n",
    "* deliver for the 10 year data delivery coming from Garching Isabelle P.\n",
    "* MA: set up the VM / jupyter server / datalake /\n",
    "* WdW: to make two copies of the disk one copy to Paranal one copy to MA.\n",
    "\n",
    "#### Next meeting: May 30th 10:00 ESO premises."
   ]
  },
  {
   "cell_type": "code",
   "execution_count": null,
   "metadata": {},
   "outputs": [],
   "source": []
  }
 ],
 "metadata": {
  "hide_input": false,
  "kernelspec": {
   "display_name": "Python [conda env:datalab]",
   "language": "python",
   "name": "conda-env-datalab-py"
  },
  "language_info": {
   "codemirror_mode": {
    "name": "ipython",
    "version": 3
   },
   "file_extension": ".py",
   "mimetype": "text/x-python",
   "name": "python",
   "nbconvert_exporter": "python",
   "pygments_lexer": "ipython3",
   "version": "3.5.6"
  },
  "toc": {
   "base_numbering": 1,
   "nav_menu": {},
   "number_sections": false,
   "sideBar": true,
   "skip_h1_title": true,
   "title_cell": "Table of Contents",
   "title_sidebar": "Contents",
   "toc_cell": true,
   "toc_position": {},
   "toc_section_display": true,
   "toc_window_display": true
  },
  "varInspector": {
   "cols": {
    "lenName": 16,
    "lenType": 16,
    "lenVar": 40
   },
   "kernels_config": {
    "python": {
     "delete_cmd_postfix": "",
     "delete_cmd_prefix": "del ",
     "library": "var_list.py",
     "varRefreshCmd": "print(var_dic_list())"
    },
    "r": {
     "delete_cmd_postfix": ") ",
     "delete_cmd_prefix": "rm(",
     "library": "var_list.r",
     "varRefreshCmd": "cat(var_dic_list()) "
    }
   },
   "types_to_exclude": [
    "module",
    "function",
    "builtin_function_or_method",
    "instance",
    "_Feature"
   ],
   "window_display": false
  }
 },
 "nbformat": 4,
 "nbformat_minor": 2
}
